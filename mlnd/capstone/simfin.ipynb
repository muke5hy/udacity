{
 "cells": [
  {
   "cell_type": "code",
   "execution_count": null,
   "metadata": {},
   "outputs": [
    {
     "name": "stdout",
     "output_type": "stream",
     "text": [
      "[111052, None, 239962]\n"
     ]
    }
   ],
   "source": [
    "import requests\n",
    "import pandas as pd\n",
    "\n",
    "# here you have to enter your actual API key from SimFin\n",
    "api_key = \"E7tqUjDcH0k43vW6CPNqMe7Ch2QqOLCs\"\n",
    "\n",
    "# list of tickers we want to get data for\n",
    "tickers = [\"AAPL\", \"NVDA\", \"WMT\"]\n",
    "\n",
    "# first: find SimFin IDs\n",
    "sim_ids = []\n",
    "for ticker in tickers:\n",
    "\n",
    "    request_url = f'https://simfin.com/api/v1/info/find-id/ticker/{ticker}?api-key={api_key}'\n",
    "    content = requests.get(request_url)\n",
    "    data = content.json()\n",
    "\n",
    "    if \"error\" in data or len(data) < 1:\n",
    "        sim_ids.append(None)\n",
    "    else:\n",
    "        sim_ids.append(data[0]['simId'])\n",
    "\n",
    "print(sim_ids)\n",
    "\n",
    "# define time periods for financial statement data\n",
    "statement_type = \"pl\"\n",
    "time_periods = [\"Q1\", \"Q2\", \"Q3\", \"Q4\"]\n",
    "year_start = 2013\n",
    "year_end = 2018\n",
    "\n",
    "data = {}\n",
    "# get data for each ticker/id\n",
    "for idx, sim_id in enumerate(sim_ids):\n",
    "    d = data[tickers[idx]] = {\"Line Item\": []}\n",
    "    if sim_id is not None:\n",
    "        for year in range(year_start, year_end + 1):\n",
    "            for time_period in time_periods:\n",
    "\n",
    "                # make time period identifier\n",
    "                period_identifier = time_period + \"-\" + str(year)\n",
    "\n",
    "                if period_identifier not in d:\n",
    "                    d[period_identifier] = []\n",
    "\n",
    "                request_url = f'https://simfin.com/api/v1/companies/id/{sim_id}/statements/standardised?stype={statement_type}&fyear={year}&ptype={time_period}&api-key={api_key}'\n",
    "\n",
    "                content = requests.get(request_url)\n",
    "                statement_data = content.json()\n",
    "\n",
    "                # collect line item names once, they are the same for all companies with the standardised data\n",
    "                if len(d['Line Item']) == 0 and 'values' in statement_data:\n",
    "                    d['Line Item'] = [x['standardisedName'] for x in statement_data['values']]\n",
    "\n",
    "                if 'values' in statement_data:\n",
    "                    for item in statement_data['values']:\n",
    "                        d[period_identifier].append(item['valueChosen'])\n",
    "                else:\n",
    "                    # no data found for time period\n",
    "                    d[period_identifier] = [None for _ in d['Line Item']]\n",
    "\n",
    "        # fix the periods where no values were available\n",
    "        len_target = len(d['Line Item'])\n",
    "        if len_target > 0:\n",
    "            for k, v in d.items():\n",
    "                if len(v) != len_target:\n",
    "                    d[k] = [None for _ in d['Line Item']]\n",
    "\n",
    "    # convert to pandas dataframe\n",
    "    df = pd.DataFrame(data=d)\n",
    "    # save in the XLSX file configured earlier\n",
    "    df.to_csv(tickers[idx])\n",
    "\n",
    "writer.save()\n",
    "writer.close()\n"
   ]
  },
  {
   "cell_type": "code",
   "execution_count": null,
   "metadata": {},
   "outputs": [],
   "source": []
  }
 ],
 "metadata": {
  "kernelspec": {
   "display_name": "Python 3",
   "language": "python",
   "name": "python3"
  },
  "language_info": {
   "codemirror_mode": {
    "name": "ipython",
    "version": 3
   },
   "file_extension": ".py",
   "mimetype": "text/x-python",
   "name": "python",
   "nbconvert_exporter": "python",
   "pygments_lexer": "ipython3",
   "version": "3.7.2"
  },
  "toc": {
   "base_numbering": 1,
   "nav_menu": {},
   "number_sections": false,
   "sideBar": false,
   "skip_h1_title": false,
   "title_cell": "Table of Contents",
   "title_sidebar": "Contents",
   "toc_cell": false,
   "toc_position": {},
   "toc_section_display": false,
   "toc_window_display": false
  }
 },
 "nbformat": 4,
 "nbformat_minor": 2
}
