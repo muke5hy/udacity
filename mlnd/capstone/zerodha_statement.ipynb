{
 "cells": [
  {
   "cell_type": "code",
   "execution_count": 27,
   "metadata": {},
   "outputs": [],
   "source": [
    "\n"
   ]
  },
  {
   "cell_type": "code",
   "execution_count": 44,
   "metadata": {},
   "outputs": [
    {
     "name": "stdout",
     "output_type": "stream",
     "text": [
      "933000.0 441773.86\n",
      "491226.14\n"
     ]
    }
   ],
   "source": [
    "import pandas as pd\n",
    "import numpy as np\n",
    "# data= pd.read_csv(\"/data/zerodha_statement_anita.csv\")\n",
    "data= pd.read_csv(\"/data/zerodha_statement.csv\")\n",
    "\n",
    "df = data.dropna()\n",
    "credit = df.loc[df['voucher_type'] == 'Bank Receipts'].sum()['credit']\n",
    "debit = df.loc[df['voucher_type'] == 'Bank Payments'].sum()['debit']\n",
    "\n",
    "print(credit, debit)\n",
    "\n",
    "print(credit - debit)"
   ]
  }
 ],
 "metadata": {
  "kernelspec": {
   "display_name": "Python 3",
   "language": "python",
   "name": "python3"
  },
  "language_info": {
   "codemirror_mode": {
    "name": "ipython",
    "version": 3
   },
   "file_extension": ".py",
   "mimetype": "text/x-python",
   "name": "python",
   "nbconvert_exporter": "python",
   "pygments_lexer": "ipython3",
   "version": "3.7.4"
  }
 },
 "nbformat": 4,
 "nbformat_minor": 2
}
