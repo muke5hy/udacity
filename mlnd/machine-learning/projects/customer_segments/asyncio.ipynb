{
 "cells": [
  {
   "cell_type": "code",
   "execution_count": 6,
   "metadata": {},
   "outputs": [
    {
     "ename": "NameError",
     "evalue": "name 'self' is not defined",
     "output_type": "error",
     "traceback": [
      "\u001b[0;31m---------------------------------------------------------------------------\u001b[0m",
      "\u001b[0;31mRuntimeError\u001b[0m                              Traceback (most recent call last)",
      "\u001b[0;32m<ipython-input-6-80544baeea1d>\u001b[0m in \u001b[0;36m<module>\u001b[0;34m\u001b[0m\n\u001b[1;32m     57\u001b[0m     \u001b[0;32mtry\u001b[0m\u001b[0;34m:\u001b[0m\u001b[0;34m\u001b[0m\u001b[0;34m\u001b[0m\u001b[0m\n\u001b[0;32m---> 58\u001b[0;31m         \u001b[0mloop\u001b[0m\u001b[0;34m.\u001b[0m\u001b[0mrun_until_complete\u001b[0m\u001b[0;34m(\u001b[0m\u001b[0mmain\u001b[0m\u001b[0;34m(\u001b[0m\u001b[0;34m)\u001b[0m\u001b[0;34m)\u001b[0m\u001b[0;34m\u001b[0m\u001b[0;34m\u001b[0m\u001b[0m\n\u001b[0m\u001b[1;32m     59\u001b[0m     \u001b[0;32mexcept\u001b[0m \u001b[0mException\u001b[0m \u001b[0;32mas\u001b[0m \u001b[0me\u001b[0m\u001b[0;34m:\u001b[0m\u001b[0;34m\u001b[0m\u001b[0;34m\u001b[0m\u001b[0m\n",
      "\u001b[0;32m~/.pyenv/versions/3.6.7/lib/python3.6/asyncio/base_events.py\u001b[0m in \u001b[0;36mrun_until_complete\u001b[0;34m(self, future)\u001b[0m\n\u001b[1;32m    459\u001b[0m         \u001b[0;32mtry\u001b[0m\u001b[0;34m:\u001b[0m\u001b[0;34m\u001b[0m\u001b[0;34m\u001b[0m\u001b[0m\n\u001b[0;32m--> 460\u001b[0;31m             \u001b[0mself\u001b[0m\u001b[0;34m.\u001b[0m\u001b[0mrun_forever\u001b[0m\u001b[0;34m(\u001b[0m\u001b[0;34m)\u001b[0m\u001b[0;34m\u001b[0m\u001b[0;34m\u001b[0m\u001b[0m\n\u001b[0m\u001b[1;32m    461\u001b[0m         \u001b[0;32mexcept\u001b[0m\u001b[0;34m:\u001b[0m\u001b[0;34m\u001b[0m\u001b[0;34m\u001b[0m\u001b[0m\n",
      "\u001b[0;32m~/.pyenv/versions/3.6.7/lib/python3.6/asyncio/base_events.py\u001b[0m in \u001b[0;36mrun_forever\u001b[0;34m(self)\u001b[0m\n\u001b[1;32m    413\u001b[0m         \u001b[0;32mif\u001b[0m \u001b[0mself\u001b[0m\u001b[0;34m.\u001b[0m\u001b[0mis_running\u001b[0m\u001b[0;34m(\u001b[0m\u001b[0;34m)\u001b[0m\u001b[0;34m:\u001b[0m\u001b[0;34m\u001b[0m\u001b[0;34m\u001b[0m\u001b[0m\n\u001b[0;32m--> 414\u001b[0;31m             \u001b[0;32mraise\u001b[0m \u001b[0mRuntimeError\u001b[0m\u001b[0;34m(\u001b[0m\u001b[0;34m'This event loop is already running'\u001b[0m\u001b[0;34m)\u001b[0m\u001b[0;34m\u001b[0m\u001b[0;34m\u001b[0m\u001b[0m\n\u001b[0m\u001b[1;32m    415\u001b[0m         \u001b[0;32mif\u001b[0m \u001b[0mevents\u001b[0m\u001b[0;34m.\u001b[0m\u001b[0m_get_running_loop\u001b[0m\u001b[0;34m(\u001b[0m\u001b[0;34m)\u001b[0m \u001b[0;32mis\u001b[0m \u001b[0;32mnot\u001b[0m \u001b[0;32mNone\u001b[0m\u001b[0;34m:\u001b[0m\u001b[0;34m\u001b[0m\u001b[0;34m\u001b[0m\u001b[0m\n",
      "\u001b[0;31mRuntimeError\u001b[0m: This event loop is already running",
      "\nDuring handling of the above exception, another exception occurred:\n",
      "\u001b[0;31mNameError\u001b[0m                                 Traceback (most recent call last)",
      "\u001b[0;32m<ipython-input-6-80544baeea1d>\u001b[0m in \u001b[0;36m<module>\u001b[0;34m\u001b[0m\n\u001b[1;32m     58\u001b[0m         \u001b[0mloop\u001b[0m\u001b[0;34m.\u001b[0m\u001b[0mrun_until_complete\u001b[0m\u001b[0;34m(\u001b[0m\u001b[0mmain\u001b[0m\u001b[0;34m(\u001b[0m\u001b[0;34m)\u001b[0m\u001b[0;34m)\u001b[0m\u001b[0;34m\u001b[0m\u001b[0;34m\u001b[0m\u001b[0m\n\u001b[1;32m     59\u001b[0m     \u001b[0;32mexcept\u001b[0m \u001b[0mException\u001b[0m \u001b[0;32mas\u001b[0m \u001b[0me\u001b[0m\u001b[0;34m:\u001b[0m\u001b[0;34m\u001b[0m\u001b[0;34m\u001b[0m\u001b[0m\n\u001b[0;32m---> 60\u001b[0;31m         \u001b[0mself\u001b[0m\u001b[0;34m.\u001b[0m\u001b[0mcheck_in_records\u001b[0m\u001b[0;34m(\u001b[0m\u001b[0;34m)\u001b[0m\u001b[0;34m\u001b[0m\u001b[0;34m\u001b[0m\u001b[0m\n\u001b[0m\u001b[1;32m     61\u001b[0m         \u001b[0mself\u001b[0m\u001b[0;34m.\u001b[0m\u001b[0mreconnect\u001b[0m\u001b[0;34m(\u001b[0m\u001b[0;34m)\u001b[0m\u001b[0;34m\u001b[0m\u001b[0;34m\u001b[0m\u001b[0m\n\u001b[1;32m     62\u001b[0m         \u001b[0mself\u001b[0m\u001b[0;34m.\u001b[0m\u001b[0mstart_job\u001b[0m\u001b[0;34m(\u001b[0m\u001b[0;34m)\u001b[0m\u001b[0;34m\u001b[0m\u001b[0;34m\u001b[0m\u001b[0m\n",
      "\u001b[0;31mNameError\u001b[0m: name 'self' is not defined"
     ]
    }
   ],
   "source": [
    "import asyncio\n",
    "import logging\n",
    "import os\n",
    "from time import time\n",
    "\n",
    "import aiohttp\n",
    "\n",
    "\n",
    "logging.basicConfig(level=logging.INFO, format='%(asctime)s - %(name)s - %(levelname)s - %(message)s')\n",
    "logger = logging.getLogger(__name__)\n",
    "\n",
    "def setup_download_dir():\n",
    "    print(\"Some method\")\n",
    "\n",
    "def get_links():\n",
    "    return \"sometlik\"\n",
    "\n",
    "async def async_download_link(session, directory, link):\n",
    "    \"\"\"\n",
    "    Async version of the download_link method we've been using in the other examples.\n",
    "    :param session: aiohttp ClientSession\n",
    "    :param directory: directory to save downloads\n",
    "    :param link: the url of the link to download\n",
    "    :return:\n",
    "    \"\"\"\n",
    "    download_path = directory / os.path.basename(link)\n",
    "    async with session.get(link) as response:\n",
    "        with download_path.open('wb') as f:\n",
    "            while True:\n",
    "                # await pauses execution until the 1024 (or less) bytes are read from the stream\n",
    "                chunk = await response.content.read(1024)\n",
    "                if not chunk:\n",
    "                    # We are done reading the file, break out of the while loop\n",
    "                    break\n",
    "                f.write(chunk)\n",
    "    logger.info('Downloaded %s', link)\n",
    "\n",
    "\n",
    "# Main is now a coroutine\n",
    "async def main():\n",
    "    client_id = os.getenv('IMGUR_CLIENT_ID')\n",
    "    if not client_id:\n",
    "        raise Exception(\"Couldn't find IMGUR_CLIENT_ID environment variable!\")\n",
    "    download_dir = setup_download_dir()\n",
    "    # We use a session to take advantage of tcp keep-alive\n",
    "    # Set a 3 second read and connect timeout. Default is 5 minutes\n",
    "    async with aiohttp.ClientSession(conn_timeout=3, read_timeout=3) as session:\n",
    "        tasks = [(async_download_link(session, download_dir, l)) for l in get_links(client_id)]\n",
    "        # gather aggregates all the tasks and schedules them in the event loop\n",
    "        await asyncio.gather(*tasks, return_exceptions=True)\n",
    "\n",
    "\n",
    "if __name__ == '__main__':\n",
    "    ts = time()\n",
    "    # Create the asyncio event loop\n",
    "    loop = asyncio.get_event_loop()\n",
    "    try:\n",
    "        loop.run_until_complete(main())\n",
    "    except Exception as e:\n",
    "        self.reconnect()\n",
    "        self.start_job()\n",
    "#     finally:\n",
    "#         # Shutdown the loop even if there is an exception\n",
    "#         loop.close()\n",
    "    logger.info('Took %s seconds to complete', time() - ts)"
   ]
  },
  {
   "cell_type": "code",
   "execution_count": 2,
   "metadata": {},
   "outputs": [
    {
     "name": "stdout",
     "output_type": "stream",
     "text": [
      "Collecting aiohttp\n",
      "  Using cached https://files.pythonhosted.org/packages/74/30/83e59bc133a04fb0db67f3bd80558129e2c5f53b12d75980d122162447fe/aiohttp-3.5.4-cp36-cp36m-macosx_10_13_x86_64.whl\n",
      "Requirement already satisfied: attrs>=17.3.0 in /Users/mukesh/Projects/learning/mlnd/.venv/lib/python3.6/site-packages (from aiohttp) (19.1.0)\n",
      "Collecting idna-ssl>=1.0; python_version < \"3.7\" (from aiohttp)\n",
      "Requirement already satisfied: chardet<4.0,>=2.0 in /Users/mukesh/Projects/learning/mlnd/.venv/lib/python3.6/site-packages (from aiohttp) (3.0.4)\n",
      "Collecting yarl<2.0,>=1.0 (from aiohttp)\n",
      "Collecting typing-extensions>=3.6.5; python_version < \"3.7\" (from aiohttp)\n",
      "  Using cached https://files.pythonhosted.org/packages/0f/62/c66e553258c37c33f9939abb2dd8d2481803d860ff68e635466f12aa7efa/typing_extensions-3.7.2-py3-none-any.whl\n",
      "Collecting async-timeout<4.0,>=3.0 (from aiohttp)\n",
      "  Using cached https://files.pythonhosted.org/packages/e1/1e/5a4441be21b0726c4464f3f23c8b19628372f606755a9d2e46c187e65ec4/async_timeout-3.0.1-py3-none-any.whl\n",
      "Collecting multidict<5.0,>=4.0 (from aiohttp)\n",
      "  Using cached https://files.pythonhosted.org/packages/7f/cb/0404f4c326cdc7352bdfad8c38662b19c423cb6e3e39a171f30f6c6ac92e/multidict-4.5.2-cp36-cp36m-macosx_10_12_intel.macosx_10_12_x86_64.macosx_10_13_intel.macosx_10_13_x86_64.whl\n",
      "Requirement already satisfied: idna>=2.0 in /Users/mukesh/Projects/learning/mlnd/.venv/lib/python3.6/site-packages (from idna-ssl>=1.0; python_version < \"3.7\"->aiohttp) (2.8)\n",
      "Installing collected packages: idna-ssl, multidict, yarl, typing-extensions, async-timeout, aiohttp\n",
      "Successfully installed aiohttp-3.5.4 async-timeout-3.0.1 idna-ssl-1.1.0 multidict-4.5.2 typing-extensions-3.7.2 yarl-1.3.0\n"
     ]
    }
   ],
   "source": [
    "!pip install aiohttp"
   ]
  }
 ],
 "metadata": {
  "kernelspec": {
   "display_name": "Python 3",
   "language": "python",
   "name": "python3"
  },
  "language_info": {
   "codemirror_mode": {
    "name": "ipython",
    "version": 3
   },
   "file_extension": ".py",
   "mimetype": "text/x-python",
   "name": "python",
   "nbconvert_exporter": "python",
   "pygments_lexer": "ipython3",
   "version": "3.6.7"
  }
 },
 "nbformat": 4,
 "nbformat_minor": 2
}
